{
 "cells": [
  {
   "cell_type": "markdown",
   "id": "c0c7367c",
   "metadata": {},
   "source": [
    "# **Práctica 9: Árboles. Parte 2.**"
   ]
  }
 ],
 "metadata": {
  "language_info": {
   "name": "python"
  }
 },
 "nbformat": 4,
 "nbformat_minor": 5
}
