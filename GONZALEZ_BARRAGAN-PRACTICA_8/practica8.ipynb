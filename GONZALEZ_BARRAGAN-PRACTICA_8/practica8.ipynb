{
 "cells": [
  {
   "cell_type": "markdown",
   "id": "c0c7367c",
   "metadata": {},
   "source": [
    "# **Práctica 8: Árboles. Parte 1**"
   ]
  },
  {
   "cell_type": "markdown",
   "id": "1bced9c0",
   "metadata": {},
   "source": [
    "## **Nodos y Árbol**"
   ]
  },
  {
   "cell_type": "code",
   "execution_count": null,
   "id": "2c26cd34",
   "metadata": {},
   "outputs": [],
   "source": [
    "import random\n",
    "import matplotlib.pyplot as plt\n",
    "\n",
    "class Node:\n",
    "    def __init__(self, value):\n",
    "        self.name = \"\"\n",
    "        self.value = value\n",
    "        self.left = None\n",
    "        self.right = None\n",
    "\n",
    "def create_tree(n):\n",
    "    if n <= 0: return None\n",
    "    raiz = Node(1)\n",
    "    queue = []\n",
    "    queue.append(raiz)\n",
    "\n",
    "    i = 2\n",
    "    while i < n + 1:\n",
    "        father = queue[0]\n",
    "        new_node = Node(i)\n",
    "        \n",
    "        if father.left is None:\n",
    "            father.left = new_node\n",
    "        else:\n",
    "            father.right = new_node\n",
    "            queue.pop(0)\n",
    "        queue.append(new_node)\n",
    "        i += 1\n",
    "    return raiz\n",
    "\n",
    "def print_tree(node, prefix = \"\", is_left = True):\n",
    "    if node is not None:\n",
    "        print(prefix + (\"├── \" if is_left else \"└── \") + str(node.value))\n",
    "        print_tree(node.left, prefix + (\"│   \" if is_left else \"    \"), True)\n",
    "        print_tree(node.right, prefix + (\"│   \" if is_left else \"    \"), False)"
   ]
  },
  {
   "cell_type": "markdown",
   "id": "fef39cc1",
   "metadata": {},
   "source": [
    "## **Creación de Árbol**"
   ]
  },
  {
   "cell_type": "code",
   "execution_count": 22,
   "id": "41a1aa82",
   "metadata": {},
   "outputs": [
    {
     "name": "stdout",
     "output_type": "stream",
     "text": [
      "├── 1\n",
      "│   ├── 2\n",
      "│   │   ├── 4\n",
      "│   │   │   ├── 8\n",
      "│   │   │   └── 9\n",
      "│   │   └── 5\n",
      "│   │       ├── 10\n",
      "│   │       └── 11\n",
      "│   └── 3\n",
      "│       ├── 6\n",
      "│       │   ├── 12\n",
      "│       │   └── 13\n",
      "│       └── 7\n",
      "│           ├── 14\n",
      "│           └── 15\n"
     ]
    }
   ],
   "source": [
    "tree = create_tree(15)\n",
    "print_tree(tree)"
   ]
  },
  {
   "cell_type": "markdown",
   "id": "6511778c",
   "metadata": {},
   "source": [
    "## **Funciones de Recorrido**"
   ]
  },
  {
   "cell_type": "code",
   "execution_count": 23,
   "id": "9fd522ab",
   "metadata": {},
   "outputs": [],
   "source": [
    "def preorder_traversal(node, result):\n",
    "    if node is not None:\n",
    "        result.append(node.value)\n",
    "        preorder_traversal(node.left, result)\n",
    "        preorder_traversal(node.right, result)\n",
    "\n",
    "def inorder_traversal(node, result):\n",
    "    if node is not None:\n",
    "        inorder_traversal(node.left, result)\n",
    "        result.append(node.value)\n",
    "        inorder_traversal(node.right, result)\n",
    "        \n",
    "def postorder_traversal(node, result):\n",
    "    if node is not None:\n",
    "        postorder_traversal(node.left, result)\n",
    "        postorder_traversal(node.right, result)\n",
    "        result.append(node.value)"
   ]
  },
  {
   "cell_type": "markdown",
   "id": "7ab7d24e",
   "metadata": {},
   "source": [
    "## **Pruebas**"
   ]
  },
  {
   "cell_type": "code",
   "execution_count": 27,
   "id": "8b9cf1ff",
   "metadata": {},
   "outputs": [
    {
     "name": "stdout",
     "output_type": "stream",
     "text": [
      "Preorder Traversal: [1, 2, 4, 8, 9, 5, 10, 11, 3, 6, 12, 13, 7, 14, 15]\n",
      "Inorder Traversal: [8, 4, 9, 2, 10, 5, 11, 1, 12, 6, 13, 3, 14, 7, 15]\n",
      "Postorder Traversal: [8, 9, 4, 10, 11, 5, 2, 12, 13, 6, 14, 15, 7, 3, 1]\n"
     ]
    }
   ],
   "source": [
    "preorder_result = []\n",
    "preorder_traversal(tree, preorder_result)\n",
    "print(\"Preorder Traversal:\", preorder_result)\n",
    "\n",
    "inorder_result = []\n",
    "inorder_traversal(tree, inorder_result)\n",
    "print(\"Inorder Traversal:\", inorder_result)\n",
    "\n",
    "postorder_result = []\n",
    "postorder_traversal(tree, postorder_result)\n",
    "print(\"Postorder Traversal:\", postorder_result)"
   ]
  }
 ],
 "metadata": {
  "kernelspec": {
   "display_name": "Python 3",
   "language": "python",
   "name": "python3"
  },
  "language_info": {
   "codemirror_mode": {
    "name": "ipython",
    "version": 3
   },
   "file_extension": ".py",
   "mimetype": "text/x-python",
   "name": "python",
   "nbconvert_exporter": "python",
   "pygments_lexer": "ipython3",
   "version": "3.13.5"
  }
 },
 "nbformat": 4,
 "nbformat_minor": 5
}
