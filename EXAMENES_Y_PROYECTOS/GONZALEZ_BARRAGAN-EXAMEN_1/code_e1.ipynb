{
 "cells": [
  {
   "cell_type": "markdown",
   "id": "342ef494",
   "metadata": {},
   "source": [
    "# **Primer Examen Parcial: Función Hash**"
   ]
  },
  {
   "cell_type": "code",
   "execution_count": 6,
   "id": "fcd0b38a",
   "metadata": {},
   "outputs": [],
   "source": [
    "import random\n",
    "\n",
    "N = 1000\n",
    "\n",
    "def myHash(value):                                  # Temporal      Espacial\n",
    "  value = (value ^ (value >> 13)) * 1000000007      # 9             # 2\n",
    "  value = (value ^ (value >> 14)) * 2147483647      # 9             # 2\n",
    "  value = (value ^ (value >> 15)) * 5555555557      # 9             # 2\n",
    "  value = value ^ (value >> 16)                     # 7             # 2\n",
    "  return abs(value) % N                             # 5\n",
    "# Polinomio del best/worst/average case             = 39            = 8\n",
    "\n",
    "valuesArr = [] # keys\n",
    "indexArr = [] # indexes\n",
    "\n",
    "valuesArr = random.sample(range(-2**(31), 2**(31)), N) # arreglo (aleatorio) de prueba\n",
    "\n",
    "for i in range(0, N):\n",
    "  indexArr.append(myHash(valuesArr[i]))\n",
    "  # print(\"Valor:\", valuesArr[i], \"Hash:\", indexArr[i])"
   ]
  }
 ],
 "metadata": {
  "kernelspec": {
   "display_name": "Python 3",
   "language": "python",
   "name": "python3"
  },
  "language_info": {
   "codemirror_mode": {
    "name": "ipython",
    "version": 3
   },
   "file_extension": ".py",
   "mimetype": "text/x-python",
   "name": "python",
   "nbconvert_exporter": "python",
   "pygments_lexer": "ipython3",
   "version": "3.13.5"
  }
 },
 "nbformat": 4,
 "nbformat_minor": 5
}
