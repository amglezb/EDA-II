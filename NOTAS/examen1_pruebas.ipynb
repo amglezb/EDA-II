{
 "cells": [
  {
   "cell_type": "markdown",
   "id": "95736bad",
   "metadata": {},
   "source": [
    "# **Primer Examen Parcial: Función Hash**"
   ]
  },
  {
   "cell_type": "markdown",
   "id": "699b3c53",
   "metadata": {},
   "source": [
    "## **Hash**"
   ]
  },
  {
   "cell_type": "code",
   "execution_count": 2,
   "id": "61db851c",
   "metadata": {},
   "outputs": [],
   "source": [
    "import random\n",
    "\n",
    "def myHash2(value, n):\n",
    "  value = abs(value)\n",
    "  str1 = str(value)\n",
    "\n",
    "  exp1 = 1 / (int(str1[-1]) + 1)\n",
    "  exp2 = int(str1[0]) + 5\n",
    "  value = (value ** (exp1)) * (10 ** exp2)\n",
    "\n",
    "  value = int(value)\n",
    "  str2 = str(value)\n",
    "  poss = [-1, 2, 3, 4]\n",
    "  value = str2[poss[0]] + str2[poss[1]] + str2[poss[2]] + str2[poss[3]]\n",
    "\n",
    "  value = int(float(value)) % n\n",
    "  return value\n",
    "\n",
    "def myHash(value, n):\n",
    "  value = (value ^ (value >> 13)) * 1000000007\n",
    "  value = (value ^ (value >> 14)) * 2147483647\n",
    "  value = (value ^ (value >> 15)) * 5555555557\n",
    "  value = value ^ (value >> 16)\n",
    "  return abs(value) % n"
   ]
  },
  {
   "cell_type": "markdown",
   "id": "2640a95a",
   "metadata": {},
   "source": [
    "## **Prueba**"
   ]
  },
  {
   "cell_type": "code",
   "execution_count": 3,
   "id": "1e8fa364",
   "metadata": {},
   "outputs": [],
   "source": [
    "MAX = 1000\n",
    "\n",
    "arr = []\n",
    "hashArr = []\n",
    "contArr = [0] * MAX\n",
    "colissionsArr = [0] * MAX\n",
    "\n",
    "arr = random.sample(range(-2**(31), 2**(31)), MAX) # arreglo (aleatorio) de prueba\n",
    "\n",
    "for i in range(0, MAX):\n",
    "    hashArr.append(myHash(arr[i], MAX))\n",
    "    # print(arr[i], hashArr[i])"
   ]
  },
  {
   "cell_type": "markdown",
   "id": "11cf4022",
   "metadata": {},
   "source": [
    "## **Contabilización de Colisiones**"
   ]
  },
  {
   "cell_type": "code",
   "execution_count": 4,
   "id": "77400a8c",
   "metadata": {},
   "outputs": [
    {
     "name": "stdout",
     "output_type": "stream",
     "text": [
      "Colisiones: 364\n",
      "Porcentaje de Colisiones: 36.4 %\n"
     ]
    }
   ],
   "source": [
    "for i in range(0, MAX):\n",
    "    for j in range(0, MAX):\n",
    "        if i == hashArr[j]:\n",
    "            contArr[i] += 1\n",
    "\n",
    "for i in range(0, MAX):\n",
    "    if contArr[i] <= 1:\n",
    "        colissionsArr[i] = 0\n",
    "    else:\n",
    "        colissionsArr[i] = contArr[i] - 1\n",
    "\n",
    "colissions = sum(colissionsArr)\n",
    "\n",
    "print(\"Colisiones:\", colissions)\n",
    "print(\"Porcentaje de Colisiones:\", (colissions / MAX) * 100 , \"%\")"
   ]
  },
  {
   "cell_type": "code",
   "execution_count": 10,
   "id": "5feea706",
   "metadata": {},
   "outputs": [
    {
     "name": "stdout",
     "output_type": "stream",
     "text": [
      "--- HASH  ---\n",
      "Average collisions: 1.000\n",
      "Standard deviation: 0.988\n",
      "Uniformity: 0.988\n"
     ]
    },
    {
     "data": {
      "image/png": "[encoded data removed]",
      "text/plain": [
       "<Figure size 640x480 with 1 Axes>"
      ]
     },
     "metadata": {},
     "output_type": "display_data"
    }
   ],
   "source": [
    "from matplotlib import pyplot as plt\n",
    "import math\n",
    "\n",
    "INSERT = 10000\n",
    "ARR_SIZE = 10000\n",
    "\n",
    "x = [i for i in range(0, ARR_SIZE)]\n",
    "y = []\n",
    "\n",
    "hmap: dict[int, list[int]] = {}\n",
    "\n",
    "for v in range(1, INSERT + 1):\n",
    "    h = myHash(v, ARR_SIZE)\n",
    "\n",
    "    if h not in hmap:\n",
    "        hmap[h] = [v]\n",
    "    else:\n",
    "        hmap[h].append(v)\n",
    "\n",
    "t_collisions = 0\n",
    "for i in range(0, ARR_SIZE):\n",
    "    n_collisions = len(hmap[i]) if i in hmap else 0\n",
    "    y.append(n_collisions)\n",
    "    t_collisions += n_collisions\n",
    "\n",
    "mean = t_collisions / ARR_SIZE\n",
    "variance = sum((val - mean) ** 2 for val in y) / ARR_SIZE\n",
    "stddev = math.sqrt(variance)\n",
    "\n",
    "print(\"--- HASH  ---\")\n",
    "print(f\"Average collisions: {mean:.3f}\")\n",
    "print(f\"Standard deviation: {stddev:.3f}\")\n",
    "print(f\"Uniformity: {stddev / mean:.3f}\")\n",
    "\n",
    "plt.plot(x, y)\n",
    "plt.title(\"Hash\")\n",
    "plt.xlabel(\"Index\")\n",
    "plt.ylabel(\"Collisions\")\n",
    "plt.show()"
   ]
  },
  {
   "cell_type": "code",
   "execution_count": 6,
   "id": "7f4b15eb",
   "metadata": {},
   "outputs": [],
   "source": [
    "def contar_colisiones(datos):\n",
    "    \"\"\"\n",
    "    Cuenta las colisiones de una función hash para un conjunto de datos.\n",
    "    \n",
    "    Args:\n",
    "        datos: Lista de elementos a hashear\n",
    "        funcion_hash: Función hash a evaluar\n",
    "    \n",
    "    Returns:\n",
    "        dict: Diccionario con estadísticas de colisiones\n",
    "    \"\"\"\n",
    "    hash_counts = {}\n",
    "    colisiones_totales = 0\n",
    "    \n",
    "    for dato in datos:\n",
    "        hash_valor = myHash(dato, len(datos))\n",
    "        \n",
    "        if hash_valor in hash_counts:\n",
    "            hash_counts[hash_valor] += 1\n",
    "            colisiones_totales += 1\n",
    "        else:\n",
    "            hash_counts[hash_valor] = 1\n",
    "    \n",
    "    # Calcular estadísticas\n",
    "    colisiones_unicas = sum(1 for count in hash_counts.values() if count > 1)\n",
    "    elementos_con_colision = sum(count for count in hash_counts.values() if count > 1)\n",
    "    \n",
    "    return {\n",
    "        'total_elementos': len(datos),\n",
    "        'total_hashes_unicos': len(hash_counts),\n",
    "        'colisiones_totales': colisiones_totales,\n",
    "        'colisiones_unicas': colisiones_unicas,\n",
    "        'elementos_con_colision': elementos_con_colision,\n",
    "        'tasa_colision': colisiones_totales / len(datos) if datos else 0\n",
    "    }"
   ]
  },
  {
   "cell_type": "code",
   "execution_count": 7,
   "id": "f230c65b",
   "metadata": {},
   "outputs": [
    {
     "name": "stdout",
     "output_type": "stream",
     "text": [
      "{'total_elementos': 1000, 'total_hashes_unicos': 645, 'colisiones_totales': 355, 'colisiones_unicas': 261, 'elementos_con_colision': 616, 'tasa_colision': 0.355}\n"
     ]
    }
   ],
   "source": [
    "arr = random.sample(range(-2**(31), 2**(31)), MAX) # arreglo (aleatorio) de prueba\n",
    "print(contar_colisiones(arr))"
   ]
  }
 ],
 "metadata": {
  "kernelspec": {
   "display_name": "Python 3",
   "language": "python",
   "name": "python3"
  },
  "language_info": {
   "codemirror_mode": {
    "name": "ipython",
    "version": 3
   },
   "file_extension": ".py",
   "mimetype": "text/x-python",
   "name": "python",
   "nbconvert_exporter": "python",
   "pygments_lexer": "ipython3",
   "version": "3.13.5"
  }
 },
 "nbformat": 4,
 "nbformat_minor": 5
}
