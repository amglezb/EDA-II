{
 "cells": [
  {
   "cell_type": "markdown",
   "id": "68944d4e",
   "metadata": {},
   "source": [
    "# **Introducción a algoritmos paralelos**"
   ]
  },
  {
   "cell_type": "markdown",
   "id": "36442ed6",
   "metadata": {},
   "source": [
    "Clasificar los elementos a considerar en el diseño y análisis de algoritmos paralelos vs algoritmos seriales para su programación.\n",
    "\n",
    "Gran cantidad de datos\n",
    "\n",
    "Hay un punto donde es bueno hacer programación paralela, antes de eso no, en comparación con la gráfica de la programación serial.\n",
    "\n",
    "UDACITY -> Introducción a la programación paralela\n",
    "\n",
    "Introducción to OpenMP -> Tim Mattson\n",
    "\n",
    "El computo paralelo se refiere al uso simultaneo de diversos recursos\n",
    "\n",
    "No todos los paralelisables ni. para que un problema se pueda resolver de manera parela, éste debe ser capaz de descomponerse en partes. multiples intrucciones a la vez.\n",
    "\n",
    "Los recursos paralelos son, típitcamente, dos: una compu con múltiples procesadores (núcleos) o un número arbitrario de computadoras conectadas a la red (clúste).\n",
    "\n",
    "Ley d eMoore\n",
    "\n",
    "El cofundados de Inter, Gordon Moore en el artículo de la revista EM titulado \"Cramming More\"\n",
    "\n",
    "Power Wall o muro de potencia, se refiere al crecimeiento en la demanda de poder conforme se desarrollan diversas generaciones de procesadores, el cual es sostenible conforme avanza el desarrollo.\n",
    "\n"
   ]
  }
 ],
 "metadata": {
  "language_info": {
   "name": "python"
  }
 },
 "nbformat": 4,
 "nbformat_minor": 5
}
