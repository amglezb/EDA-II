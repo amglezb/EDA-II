{
 "cells": [
  {
   "cell_type": "markdown",
   "id": "2c0dc0b0",
   "metadata": {},
   "source": [
    "# **Proyecto**\n",
    "\n",
    "Aplicación Python\n",
    "\n",
    "Usar algun algoritmo de los temas vistos, percistencia de datos\n",
    "\n",
    "Crear un documento de texto que describa el objetivo y las características de la aplicación. La aplicación debe ser social o personalmente util. La descripción debe incluir cómo y para qué se van a utilizar los algoritmos de ordenamiento, busqueda, grafos y arboles, así como la persistencia de datos en archivos.\n",
    "\n",
    "Implementar la aplicación descrite. Programar en Pyhton la plicación propuesta en el punto anterior\n",
    "\n",
    "Especificaciones\n",
    "\n",
    "La primera parte del proyecto consiste\n",
    "\n",
    "entrega es es viernes 14 de noviembre de 2025 a las  23 horas\n",
    "\n",
    "se entrega un pdf y el codigo fuente, individual o en equipos, se debe adjuntar todo lo necesario para ejecutar la aplicacion, incluyendo datos de prueba.\n",
    "\n",
    "Nota: Si la aplicación no se ejecuta correctamente (falla por algún error de lógica o de usuario) o no se cumple con la primera parte de proyecto\n",
    "\n",
    "debe tener utilidad\n",
    "\n",
    "la aplicacion debe persistir la información utilizando archivos.\n",
    "\n",
    "filtrar errores"
   ]
  }
 ],
 "metadata": {
  "language_info": {
   "name": "python"
  }
 },
 "nbformat": 4,
 "nbformat_minor": 5
}
