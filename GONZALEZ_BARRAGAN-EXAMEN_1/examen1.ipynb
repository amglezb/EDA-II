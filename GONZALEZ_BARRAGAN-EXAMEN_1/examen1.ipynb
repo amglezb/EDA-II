{
 "cells": [
  {
   "cell_type": "markdown",
   "id": "95736bad",
   "metadata": {},
   "source": [
    "# **Exámen 1: Función Hash Criptográfica**"
   ]
  },
  {
   "cell_type": "markdown",
   "id": "699b3c53",
   "metadata": {},
   "source": [
    "## **Hash**"
   ]
  },
  {
   "cell_type": "code",
   "execution_count": 1,
   "id": "efadbe50",
   "metadata": {},
   "outputs": [
    {
     "name": "stdout",
     "output_type": "stream",
     "text": [
      "1\n",
      "-42\n"
     ]
    }
   ],
   "source": [
    "def miHash(key, size):\n",
    "    values = []\n",
    "    j = (ord(key[0]) - 64) ** size\n",
    "    index = j\n",
    "    print(index)\n",
    "    i = 1\n",
    "    while i < len(key):\n",
    "        value = (ord(key[0]) - 64) * (ord(key[i]) - 64)\n",
    "        values.append(value)\n",
    "        index -= values[i - 1]\n",
    "        i += 1\n",
    "    return index\n",
    "\n",
    "print(miHash(\"ABRAHAM\", 10))"
   ]
  }
 ],
 "metadata": {
  "kernelspec": {
   "display_name": "Python 3",
   "language": "python",
   "name": "python3"
  },
  "language_info": {
   "codemirror_mode": {
    "name": "ipython",
    "version": 3
   },
   "file_extension": ".py",
   "mimetype": "text/x-python",
   "name": "python",
   "nbconvert_exporter": "python",
   "pygments_lexer": "ipython3",
   "version": "3.13.5"
  }
 },
 "nbformat": 4,
 "nbformat_minor": 5
}
