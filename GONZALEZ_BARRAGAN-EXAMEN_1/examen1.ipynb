{
 "cells": [
  {
   "cell_type": "markdown",
   "id": "95736bad",
   "metadata": {},
   "source": [
    "# **Primer Examen Parcial: Función Hash**"
   ]
  },
  {
   "cell_type": "markdown",
   "id": "699b3c53",
   "metadata": {},
   "source": [
    "## **Hash**"
   ]
  },
  {
   "cell_type": "code",
   "execution_count": 79,
   "id": "61db851c",
   "metadata": {},
   "outputs": [],
   "source": [
    "import random\n",
    "\n",
    "def myHash(value, n):\n",
    "    value = abs(value)\n",
    "    str1 = str(value)\n",
    "\n",
    "    exp1 = 1 / (int(str1[-1]) + 1)\n",
    "    exp2 = int(str1[0]) + 5\n",
    "    value = (value ** (exp1)) * (10 ** exp2)\n",
    "\n",
    "    value = int(value)\n",
    "    str2 = str(value)\n",
    "    poss = [-1, 2, 3, 4]\n",
    "    value = str2[poss[0]] + str2[poss[1]] + str2[poss[2]] + str2[poss[3]]\n",
    "\n",
    "    value = int(float(value)) % n\n",
    "    return value"
   ]
  },
  {
   "cell_type": "markdown",
   "id": "2640a95a",
   "metadata": {},
   "source": [
    "## **Prueba**"
   ]
  },
  {
   "cell_type": "code",
   "execution_count": 80,
   "id": "1e8fa364",
   "metadata": {},
   "outputs": [],
   "source": [
    "MAX = 1000\n",
    "\n",
    "arr = []\n",
    "hashArr = []\n",
    "contArr = [0] * MAX\n",
    "colissionsArr = [0] * MAX\n",
    "\n",
    "arr = random.sample(range(-2**(31), 2**(31)), MAX) # arreglo (aleatorio) de prueba\n",
    "\n",
    "for i in range(MAX):\n",
    "    hashArr.append(myHash(arr[i], MAX))"
   ]
  },
  {
   "cell_type": "markdown",
   "id": "11cf4022",
   "metadata": {},
   "source": [
    "## **Contabilización de Colisiones**"
   ]
  },
  {
   "cell_type": "code",
   "execution_count": 82,
   "id": "77400a8c",
   "metadata": {},
   "outputs": [
    {
     "name": "stdout",
     "output_type": "stream",
     "text": [
      "Colisiones: 1379\n",
      "Porcentaje de Colisiones: 137.9 %\n"
     ]
    }
   ],
   "source": [
    "for i in range(MAX):\n",
    "    for j in range(MAX):\n",
    "        if i == hashArr[j]:\n",
    "            contArr[i] += 1\n",
    "\n",
    "for i in range(MAX):\n",
    "    if contArr[i] <= 1:\n",
    "        colissionsArr[i] = 0\n",
    "    else:\n",
    "        colissionsArr[i] = contArr[i] - 1\n",
    "\n",
    "colissions = sum(colissionsArr)\n",
    "\n",
    "print(\"Colisiones:\", colissions)\n",
    "print(\"Porcentaje de Colisiones:\", (colissions / MAX) * 100 , \"%\")"
   ]
  }
 ],
 "metadata": {
  "kernelspec": {
   "display_name": "Python 3",
   "language": "python",
   "name": "python3"
  },
  "language_info": {
   "codemirror_mode": {
    "name": "ipython",
    "version": 3
   },
   "file_extension": ".py",
   "mimetype": "text/x-python",
   "name": "python",
   "nbconvert_exporter": "python",
   "pygments_lexer": "ipython3",
   "version": "3.13.5"
  }
 },
 "nbformat": 4,
 "nbformat_minor": 5
}
