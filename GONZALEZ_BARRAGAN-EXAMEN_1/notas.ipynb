{
 "cells": [
  {
   "cell_type": "markdown",
   "id": "7926f555",
   "metadata": {},
   "source": [
    "Examen 1\n",
    "\n",
    "Objetivo\n",
    "Analizar e implementar una función de transformación de llaves\n",
    "\n",
    "Descripción\n",
    "\n",
    "El examen consiste en implementar una función de tra que permita almacenar N valores enteros en el rango [2^-32, 2^32]\n",
    "\n",
    "Restrucciones\n",
    "La función debe cumpli con lo siguiente\n",
    "Si tiempo debe ser =< n^2\n",
    "\n",
    "Requerimi\n",
    "\n",
    "La función recibe 1 valor entero\n",
    "Saca un entero"
   ]
  }
 ],
 "metadata": {
  "language_info": {
   "name": "python"
  }
 },
 "nbformat": 4,
 "nbformat_minor": 5
}
