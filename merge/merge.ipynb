{
 "cells": [
  {
   "cell_type": "code",
   "execution_count": null,
   "id": "3d7b9eb8",
   "metadata": {},
   "outputs": [],
   "source": [
    "def mege_sort(entList, entP, entR):         # log_2(n) + 1\n",
    "    if entP < entR:                         # log_2(n) * 4\n",
    "        entQ = int((entP+entR) / 2)         # log_2(n) * 8\n",
    "        mege_sort(entList, entP, entQ)      # log_2(n) * log_2(n)\n",
    "        mege_sort(entList, entQ+1, entR)    # log_2(n) * log_2(n)\n",
    "        merge(entList, entP, entR)          # log_2(n) * n\n",
    "\n",
    "        # nlog_2(n) + log_2^2(n)+C"
   ]
  }
 ],
 "metadata": {
  "language_info": {
   "name": "python"
  }
 },
 "nbformat": 4,
 "nbformat_minor": 5
}
