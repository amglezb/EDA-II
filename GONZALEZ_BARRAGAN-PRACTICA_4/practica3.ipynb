{
 "cells": [
  {
   "attachments": {},
   "cell_type": "markdown",
   "id": "77b61744",
   "metadata": {},
   "source": [
    "### **EDA II | 2026 - 1 | Grupo 4  | Práctica 4**\n",
    "# **Algoritmos de Búsqueda. Parte 1**\n",
    "### Gonzalez Barragan Abraham Elienai\n",
    "## **Bibliotecas y Función para Crear Arreglo de Nodos**"
   ]
  },
  {
   "cell_type": "code",
   "execution_count": null,
   "id": "6456790f",
   "metadata": {},
   "outputs": [],
   "source": [
    "import random\n",
    "import matplotlib.pyplot as plt\n",
    "\n",
    "class Node:\n",
    "    value = 0\n",
    "    name = \"\"\n",
    "    def __init__(self, intVal, strName):\n",
    "        self.value = intVal\n",
    "        self.name = strName\n",
    "    def __str__(self):\n",
    "        return self.name + \" -> \" + str(self.value)\n",
    "    \n",
    "def values_str(arr):\n",
    "    n = len(arr)\n",
    "    arr_values = [0] * n\n",
    "    for i in range(n):\n",
    "        cont = 0\n",
    "        for j in range(n):\n",
    "            if arr[j].lower() < arr[i].lower():\n",
    "                cont += 1\n",
    "            elif arr[j].lower() == arr[i].lower() and j < i:\n",
    "                cont += 1\n",
    "        arr_values[i] = cont\n",
    "    return arr_values\n",
    "\n",
    "def create_node_arr(arr, size, type, low_limit, up_limit):\n",
    "    dogs = [\"Labrador Retriever\", \"Pastor Alemán\", \"Golden Retriever\", \"Bulldog Inglés\", \"Beagle\", \"Poodle (Caniche)\", \"Rottweiler\", \"Yorkshire Terrier\", \"Dóberman\", \"Chihuahua\", \"Shih Tzu\", \"Boxer\", \"Husky Siberiano\", \"Dálmata\", \"Gran Danés\", \"Cocker Spaniel\", \"Bulldog Francés\", \"Border Collie\", \"San Bernardo\", \"Akita Inu\"]\n",
    "    dogs_values = values_str(dogs)\n",
    "    i = 0\n",
    "    while i < size:\n",
    "        if type == 0: # Lista de Nodos con Valores Ordenados Ascendentemente\n",
    "            element = Node((i + low_limit) % up_limit, \"Nodo \" + str(i + 1))\n",
    "        if type == 1: # Lista de Nodos con Valores Ordenados Descendentemente\n",
    "            element = Node(up_limit - i, \"Nodo \" + str(i + 1))\n",
    "        if type == 2: # Lista de Nodos con Valores Aleatorios\n",
    "            element = Node(random.randint(low_limit, up_limit), \"Nodo \" + str(i + 1))\n",
    "        if type == 3: # Lista de Nodos con Palabras\n",
    "            element = Node(dogs_values[i], dogs[i])\n",
    "        arr.append(element)\n",
    "        i += 1"
   ]
  },
  {
   "attachments": {},
   "cell_type": "markdown",
   "id": "b9b5081a",
   "metadata": {},
   "source": [
    "## **Búsqueda Lineal (Iterativa)**\n",
    "### **Algoritmo** (Prueba de Búsqueda y Polinomios):"
   ]
  },
  {
   "cell_type": "code",
   "execution_count": null,
   "id": "80bed494",
   "metadata": {},
   "outputs": [
    {
     "name": "stdout",
     "output_type": "stream",
     "text": [
      "El valor 18 esta en la posición: 19\n"
     ]
    }
   ],
   "source": [
    "MAX = 20\n",
    "def iterative_lineal_search(arr, obj, time):\n",
    "    i = 0\n",
    "    while i < len(arr):\n",
    "        time += 1\n",
    "        if arr[i] == obj:\n",
    "            return i + 1\n",
    "        i += 1\n",
    "    return \"Valor no encontrado\"\n",
    "\n",
    "arr = []\n",
    "aux = []\n",
    "\n",
    "# lista, tamaño, (0 = ascendente, 1 = descendente, 2 = aleatorio, 3 = palabras), lím inferior, lím superior)\n",
    "create_node_arr(arr, MAX, 0, 0, MAX)\n",
    "\n",
    "for i in range(MAX):\n",
    "    aux.append(arr[i].value)\n",
    "    \n",
    "obj = 18\n",
    "print(\"El valor\", obj, \"esta en la posición:\", iterative_lineal_search(aux, obj))"
   ]
  },
  {
   "attachments": {},
   "cell_type": "markdown",
   "id": "50d89029",
   "metadata": {},
   "source": [
    "### **Algortimo** (Gráfica):"
   ]
  },
  {
   "cell_type": "code",
   "execution_count": 17,
   "id": "bf676da1",
   "metadata": {},
   "outputs": [],
   "source": [
    "def iterative_lineal_search_g(arr, obj):\n",
    "    i = 0\n",
    "    time = 0\n",
    "    while i < len(arr):\n",
    "        time += 1\n",
    "        if arr[i] == obj:\n",
    "            return time\n",
    "        i += 1\n",
    "    return time"
   ]
  },
  {
   "attachments": {},
   "cell_type": "markdown",
   "id": "bf2b6a7b",
   "metadata": {},
   "source": [
    "## **Mejor Caso**\n",
    "### $O(n)$"
   ]
  },
  {
   "cell_type": "code",
   "execution_count": 37,
   "id": "694f2962",
   "metadata": {},
   "outputs": [
    {
     "data": {
      "image/png": "[encoded data removed]",
      "text/plain": [
       "<Figure size 640x480 with 1 Axes>"
      ]
     },
     "metadata": {},
     "output_type": "display_data"
    }
   ],
   "source": [
    "MAX = 1000\n",
    "\n",
    "x = []\n",
    "y_time = []\n",
    "\n",
    "original_arr = []\n",
    "aux_arr = []\n",
    "obj = 499\n",
    "\n",
    "create_node_arr(original_arr, MAX, 0, 0, MAX)\n",
    "\n",
    "for i in range(MAX):\n",
    "    aux_arr.append(original_arr[i].value)\n",
    "    y_time.append(iterative_lineal_search_g(aux_arr, obj))\n",
    "    x.append(len(aux_arr))\n",
    "\n",
    "plt.title('Time')\n",
    "plt.plot(x, y_time)\n",
    "plt.grid(True)\n",
    "plt.show()"
   ]
  },
  {
   "attachments": {},
   "cell_type": "markdown",
   "id": "a04f8972",
   "metadata": {},
   "source": [
    "## **Búsqueda Lineal (Recursiva)**\n",
    "### **Algoritmo** (Prueba de Búsqueda y Polinomios):"
   ]
  },
  {
   "cell_type": "code",
   "execution_count": 36,
   "id": "7ccb0dad",
   "metadata": {},
   "outputs": [
    {
     "name": "stdout",
     "output_type": "stream",
     "text": [
      "El valor  6  esta en la posición:  7\n"
     ]
    }
   ],
   "source": [
    "MAX = 20\n",
    "def recursive_lineal_search(arr, obj, i = 0):\n",
    "    if i >= len(arr):\n",
    "        return -1\n",
    "    if arr[i] == obj:\n",
    "        return i\n",
    "    return recursive_lineal_search(arr, obj, i + 1)\n",
    "\n",
    "arr = []\n",
    "aux = []\n",
    "\n",
    "# lista, tamaño, (0 = ascendente, 1 = descendente, 2 = aleatorio, 3 = palabras), lím inferior, lím superior)\n",
    "create_node_arr(arr, MAX, 0, 0, MAX)\n",
    "\n",
    "for i in range(MAX):\n",
    "    aux.append(arr[i].value)\n",
    "    \n",
    "obj = 6\n",
    "print(\"El valor \", obj, \" esta en la posición: \", recursive_lineal_search(aux, obj) + 1)"
   ]
  },
  {
   "attachments": {},
   "cell_type": "markdown",
   "id": "ebaa0fb5",
   "metadata": {},
   "source": [
    "### **Algortimo** (Gráfica):"
   ]
  },
  {
   "cell_type": "code",
   "execution_count": 39,
   "id": "a9d07e45",
   "metadata": {},
   "outputs": [],
   "source": [
    "MAX = 20\n",
    "def recursive_lineal_search_g(arr, obj, time, i = 0):\n",
    "    time += 1\n",
    "    if i >= len(arr):\n",
    "        return time\n",
    "    if arr[i] == obj:\n",
    "        return time\n",
    "    return recursive_lineal_search_g(arr, obj, i + 1, time)"
   ]
  },
  {
   "cell_type": "markdown",
   "id": "22994aa0",
   "metadata": {},
   "source": [
    "## **Mejor Caso**\n",
    "### $O(n)$"
   ]
  },
  {
   "cell_type": "code",
   "execution_count": 41,
   "id": "a61662c1",
   "metadata": {},
   "outputs": [
    {
     "data": {
      "image/png": "[encoded data removed]",
      "text/plain": [
       "<Figure size 640x480 with 1 Axes>"
      ]
     },
     "metadata": {},
     "output_type": "display_data"
    }
   ],
   "source": [
    "MAX = 1000\n",
    "\n",
    "x = []\n",
    "y_time = []\n",
    "\n",
    "original_arr = []\n",
    "aux_arr = []\n",
    "obj = 499\n",
    "\n",
    "create_node_arr(original_arr, MAX, 0, 0, MAX)\n",
    "\n",
    "for i in range(MAX):\n",
    "    aux_arr.append(original_arr[i].value)\n",
    "    y_time.append(recursive_lineal_search_g(aux_arr, obj, 0))\n",
    "    x.append(len(aux_arr))\n",
    "\n",
    "plt.title('Time')\n",
    "plt.plot(x, y_time)\n",
    "plt.grid(True)\n",
    "plt.show()"
   ]
  },
  {
   "cell_type": "markdown",
   "id": "e35a380a",
   "metadata": {},
   "source": [
    "## **Búsqueda Binaria (Iterativa Ineficiente)**\n",
    "### Algoritmo de Búsqueda Ineficiente"
   ]
  },
  {
   "cell_type": "code",
   "execution_count": 156,
   "id": "453623b5",
   "metadata": {},
   "outputs": [],
   "source": [
    "def bubble_sort(arr, time):\n",
    "    n = len(arr)\n",
    "    i = 0\n",
    "    swap = False\n",
    "    while i < n - 1:\n",
    "        j = 0\n",
    "        time += 1\n",
    "        while j < n - i - 1:\n",
    "            time += 1\n",
    "            if arr[j].value > arr[j + 1].value:\n",
    "                temp = arr[j]\n",
    "                arr[j] = arr[j + 1]\n",
    "                arr[j + 1] = temp\n",
    "                swap = True\n",
    "            if not swap: break\n",
    "            j += 1\n",
    "        i += 1\n",
    "    return arr, time"
   ]
  },
  {
   "cell_type": "markdown",
   "id": "f1f71777",
   "metadata": {},
   "source": [
    "### **Algoritmo** (Prueba de Búsqueda y Polinomios):"
   ]
  },
  {
   "cell_type": "code",
   "execution_count": 331,
   "id": "adea8634",
   "metadata": {},
   "outputs": [
    {
     "name": "stdout",
     "output_type": "stream",
     "text": [
      "El valor buscado no se encuentra en el arreglo\n"
     ]
    }
   ],
   "source": [
    "MAX = 20\n",
    "def iterative_binary_search(arr, obj, time):\n",
    "    L = 0\n",
    "    R = len(arr) - 1\n",
    "    while L <= R:\n",
    "        time += 1\n",
    "        mid = (L + R) // 2\n",
    "        if arr[mid].value == obj:\n",
    "            return arr[mid], time\n",
    "        elif arr[mid].value < obj:\n",
    "            L = mid + 1\n",
    "        else:\n",
    "            R = mid - 1\n",
    "    return Node(-1, \"\"), time\n",
    "\n",
    "arr = []\n",
    "# lista, tamaño, (0 = ascendente, 1 = descendente, 2 = aleatorio, 3 = palabras), lím inferior, lím superior)\n",
    "create_node_arr(arr, MAX, 2, 0, MAX)\n",
    "for i in range(MAX):\n",
    "    aux.append(arr[i].value)\n",
    "arr, time = bubble_sort(arr, 0)\n",
    "obj = 6\n",
    "result, time = iterative_binary_search(arr, obj, time)\n",
    "if result.value > 0: print(\"El valor\", obj, \"esta en\", result.name)\n",
    "else: print(\"El valor buscado no se encuentra en el arreglo\")"
   ]
  },
  {
   "cell_type": "markdown",
   "id": "363a9664",
   "metadata": {},
   "source": [
    "## **Mejor Caso**:"
   ]
  },
  {
   "cell_type": "code",
   "execution_count": 355,
   "id": "8e698941",
   "metadata": {},
   "outputs": [
    {
     "data": {
      "image/png": "[encoded data removed]",
      "text/plain": [
       "<Figure size 640x480 with 1 Axes>"
      ]
     },
     "metadata": {},
     "output_type": "display_data"
    }
   ],
   "source": [
    "MAX = 1000\n",
    "\n",
    "x = []\n",
    "y_time = []\n",
    "\n",
    "arr = []\n",
    "aux = []\n",
    "obj = 500\n",
    "\n",
    "create_node_arr(arr, MAX, 2, 0, MAX)\n",
    "arr, time = bubble_sort(arr, 0)\n",
    "\n",
    "\n",
    "for i in range(MAX):\n",
    "    aux.append(arr[i])\n",
    "    result, time = iterative_binary_search(aux, obj, 0)\n",
    "    y_time.append(time)\n",
    "    x.append(len(aux))\n",
    "\n",
    "plt.title('Time')\n",
    "plt.plot(x, y_time)\n",
    "plt.grid(True)\n",
    "plt.show()"
   ]
  },
  {
   "cell_type": "markdown",
   "id": "9ab56136",
   "metadata": {},
   "source": [
    "## **Mejor Caso**\n",
    "### $O(n)$"
   ]
  },
  {
   "cell_type": "code",
   "execution_count": null,
   "id": "bdc221b5",
   "metadata": {},
   "outputs": [
    {
     "data": {
      "image/png": "[encoded data removed]",
      "text/plain": [
       "<Figure size 640x480 with 1 Axes>"
      ]
     },
     "metadata": {},
     "output_type": "display_data"
    }
   ],
   "source": [
    "MAX = 1000\n",
    "\n",
    "x = []\n",
    "y_time = []\n",
    "\n",
    "original_arr = []\n",
    "aux_arr = []\n",
    "obj = 499\n",
    "\n",
    "create_node_arr(original_arr, MAX, 0, 0, MAX)\n",
    "\n",
    "for i in range(MAX):\n",
    "    aux_arr.append(original_arr[i].value)\n",
    "    y_time.append(recursive_lineal_search_g(aux_arr, obj, 0))\n",
    "    x.append(len(aux_arr))\n",
    "\n",
    "plt.title('Time')\n",
    "plt.plot(x, y_time)\n",
    "plt.grid(True)\n",
    "plt.show()"
   ]
  },
  {
   "cell_type": "markdown",
   "id": "cdaa05ed",
   "metadata": {},
   "source": [
    "## **Búsqueda Binaria (Iterativa Eficiente)**\n",
    "### Algoritmo de Búsqueda Eficiente"
   ]
  },
  {
   "cell_type": "code",
   "execution_count": 43,
   "id": "421c0fe9",
   "metadata": {},
   "outputs": [],
   "source": [
    "def radix_sort(arr, exp):\n",
    "    k = max(arr)\n",
    "    exp = 1\n",
    "    while k // exp > 0:\n",
    "        ordened_list = [0] * len(arr)\n",
    "        position_list = [0] * 10\n",
    "\n",
    "        i = 0\n",
    "        while i < len(arr):\n",
    "            i = arr[i] // exp\n",
    "            position_list[i % 10] += 1\n",
    "            i += 1\n",
    "        \n",
    "        i = 1\n",
    "        while i < 10:\n",
    "            i = arr[i] // exp\n",
    "            ordened_list[ordened_list[i % 10] - 1] = arr[i]\n",
    "            position_list[i % 10] -= 1\n",
    "            i -= 1\n",
    "        \n",
    "        i = 0\n",
    "        while i < len(arr):\n",
    "            arr[i] = ordened_list[i]\n",
    "            i += 1\n",
    "        exp += 1\n",
    "    return arr"
   ]
  }
 ],
 "metadata": {
  "kernelspec": {
   "display_name": "Python 3",
   "language": "python",
   "name": "python3"
  },
  "language_info": {
   "codemirror_mode": {
    "name": "ipython",
    "version": 3
   },
   "file_extension": ".py",
   "mimetype": "text/x-python",
   "name": "python",
   "nbconvert_exporter": "python",
   "pygments_lexer": "ipython3",
   "version": "3.13.0"
  }
 },
 "nbformat": 4,
 "nbformat_minor": 5
}
