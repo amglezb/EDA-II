{
 "cells": [
  {
   "cell_type": "markdown",
   "id": "87147174",
   "metadata": {},
   "source": [
    "# **Archivos**"
   ]
  },
  {
   "cell_type": "markdown",
   "id": "922d71a7",
   "metadata": {},
   "source": [
    "Manera en que esta almacenada la información en el SO\n",
    "\n",
    "Permisos de usuario, de grupo y otros"
   ]
  },
  {
   "cell_type": "markdown",
   "id": "3ee0b362",
   "metadata": {},
   "source": [
    "## **Proceso de Iniciar una Computadora**\n",
    "1. Encendido y POST (Power-In Self Test):\n",
    "    - Al presionar el bóton de encedido, la fuente de poder suministra energía a los componentes.\n",
    "    - El BIOS/UEFI realiza el POST para verificar que el hardware básico (RAM, procesador, teclado, ec.) funcione correctamente.\n",
    "2. Carga del BIOS/UEFI:\n",
    "    - El BIOS/UEFI busca el dispositivo de arranque (HDD, SSD, USB, etc.)\n",
    "    - Carga el gestor de  arranque (bootloader) desde el dispositivo seleccionado.\n",
    "3. Ejecución del Bootloader:\n",
    "    - El bootloader (por ejemplo, GRUB en Linux o el cargador de Windows) carga el sistema operativo en la memoria.\n",
    "4. Carga del Sistema Operativo:\n",
    "    - El núcleo (kernel) del SO se carga y comienza a gestionar el hardware.\n",
    "    - Se inician los servicios básicos del sistema (drivers, servicios de red, etc.)"
   ]
  },
  {
   "cell_type": "markdown",
   "id": "e35bbf92",
   "metadata": {},
   "source": [
    "Los archivos permiten mantener la información organizada por un largo periodo de tiempo en medios de almacenamiento secundario (almacenamiento persistente)\n",
    "\n",
    "Las computadora tiene a su disposición diferentes tipos de memoria:\n",
    "    - Registros (operaciones rapidas, poco almacenamiento)\n",
    "    - Caché\n",
    "    - RAM\n",
    "    - Secundaria\n"
   ]
  },
  {
   "cell_type": "markdown",
   "id": "f4d660b9",
   "metadata": {},
   "source": [
    "El sistema de archivos brinda distintas niveles de acceso a los usuarios del sistema:\n",
    "- Ninugno\n",
    "- Conocimiento\n",
    "- Ejecución\n",
    "- Lectura\n",
    "- Escritura\n",
    "\n",
    "Sistemas de archivos\n",
    "- FAT32\n",
    "- APFS\n",
    "- HFS+\n",
    "- NTFS\n",
    "\n"
   ]
  },
  {
   "cell_type": "markdown",
   "id": "4aa7b86f",
   "metadata": {},
   "source": [
    "## **Lectura y Escritua en Python**\n",
    "\n",
    "Para leer un archivo se requiere crear una conexión entre el programa en la memoria RAM y el archivo enla memoria\n",
    "\n",
    "OPEN\n"
   ]
  },
  {
   "cell_type": "markdown",
   "id": "3aa529af",
   "metadata": {},
   "source": [
    "# **Ejemplos**"
   ]
  },
  {
   "cell_type": "code",
   "execution_count": null,
   "id": "ee9fee42",
   "metadata": {},
   "outputs": [],
   "source": [
    "import locale\n",
    "\n",
    "file = None\n",
    "try:\n",
    "    file = open(\"open.py\", \"r\", encoding = \"utf-8\")\n",
    "except:\n",
    "    print(\"No fue posible abrir el archivo\")\n",
    "finally:\n",
    "    if file:\n",
    "        file.close\n",
    "print(locale.getprederredencoding())\n",
    "\n",
    "with open(\"open.py\", \"r\", encoding = \"utf-8\") as file_\n",
    "    print(locale.getprederredencoding())\n",
    "    print(\"Closed file?\", file.closed)\n",
    "print(\"Closed File?\", file.closed)\n",
    "\n",
    "file = open(\"attributes.py\", \"r\")\n",
    "name = file.name\n",
    "mode = file.mode\n",
    "encoding = file.encoding\n",
    "print(dir(file))\n",
    "file.close\n",
    "\n",
    "print(\"Name\", name)\n",
    "print(\"Mode\", mode)\n",
    "print(\"Encoding\", encoding)\n",
    "print(\"Closed file?\", file.closed)"
   ]
  },
  {
   "cell_type": "markdown",
   "id": "a6a4d5f7",
   "metadata": {},
   "source": [
    "se usa pickle\n",
    "seek\n",
    "\n",
    "import os\n",
    "\n",
    "mkdir\n",
    "\n",
    "walk\n",
    "\n",
    "find\n",
    "\n",
    "urllib\n",
    "\n",
    "grafica de pastel con matplo\n",
    "\n",
    "mockaroo\n",
    "\n",
    "EXAMEN N -> GLOBAL"
   ]
  },
  {
   "cell_type": "markdown",
   "id": "d12a3c0c",
   "metadata": {},
   "source": [
    "Proyecto\n",
    "\n",
    "Aplicación Python\n",
    "\n",
    "Usar algun algoritmo de los temas vistos, percistencia de datos\n",
    "\n",
    "Crear un documento de texto que describa el objetivo y las características de la aplicación. La aplicación debe ser social o personalmente util. La descripción debe incluir cómo y para qué se van a utilizar los algoritmos de ordenamiento, busqueda, grafos y arboles, así como la persistencia de datos en archivos.\n",
    "\n",
    "Implementar la aplicación descrite. Programar en Pyhton la plicación propuesta en el punto anterior\n",
    "\n",
    "Especificaciones\n",
    "\n",
    "La primera parte del proyecto consiste\n",
    "\n",
    "entrega es es viernes 14 de noviembre de 2025 a las  23 horas\n",
    "\n",
    "se entrega un pdf y el codigo fuente, individual o en equipos, se debe adjuntar todo lo necesario para ejecutar la aplicacion, incluyendo datos de prueba.\n",
    "\n",
    "Nota: Si la aplicación no se ejecuta correctamente (falla por algún error de lógica o de usuario) o no se cumple con la primera parte de proyecto\n",
    "\n",
    "debe tener utilidad\n",
    "\n",
    "la aplicacion debe persistir la información utilizando archivos.\n",
    "\n",
    "filtrar errores"
   ]
  }
 ],
 "metadata": {
  "kernelspec": {
   "display_name": "Python 3",
   "language": "python",
   "name": "python3"
  },
  "language_info": {
   "name": "python",
   "version": "3.13.5"
  }
 },
 "nbformat": 4,
 "nbformat_minor": 5
}
