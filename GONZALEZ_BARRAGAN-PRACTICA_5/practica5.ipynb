{
 "cells": [
  {
   "cell_type": "markdown",
   "id": "8b8ccf57",
   "metadata": {},
   "source": [
    "# **Práctica 5 - Algoritmos de Búsqueda Parte 2.**"
   ]
  },
  {
   "cell_type": "markdown",
   "id": "ee542f35",
   "metadata": {},
   "source": [
    "## **Nodos**"
   ]
  },
  {
   "cell_type": "code",
   "execution_count": 106,
   "id": "197836bf",
   "metadata": {},
   "outputs": [],
   "source": [
    "import random\n",
    "import matplotlib.pyplot as plt\n",
    "\n",
    "class Node:\n",
    "    def __init__(self, strName, intValue, intNode):\n",
    "        self.name = strName\n",
    "        self.value = intValue\n",
    "        self.next = intNode\n",
    "\n",
    "    def __repr__(self):\n",
    "        return f\"{self.name} -> {self.value}\"\n",
    "\n",
    "def arr_nodes(size, low_lim, up_lim):\n",
    "    arr = []\n",
    "    i = 0\n",
    "    while i < size:\n",
    "        arr.append(Node(\"Nodo \" + str(i + 1), random.randint(low_lim, up_lim), None))\n",
    "        i += 1\n",
    "    return arr"
   ]
  },
  {
   "cell_type": "markdown",
   "id": "b295106a",
   "metadata": {},
   "source": [
    "## **Función Hash**"
   ]
  },
  {
   "cell_type": "code",
   "execution_count": 107,
   "id": "25e8ab5a",
   "metadata": {},
   "outputs": [],
   "source": [
    "def hashMod(string, size):\n",
    "    add = 0\n",
    "    i = 0\n",
    "    while i < len(string):\n",
    "        add += ord(string[i])\n",
    "        i += 1\n",
    "    return add % size"
   ]
  },
  {
   "cell_type": "markdown",
   "id": "f5c42a19",
   "metadata": {},
   "source": [
    "## **Algoritmos**"
   ]
  },
  {
   "cell_type": "markdown",
   "id": "0ca1b71f",
   "metadata": {},
   "source": [
    "### **Reasignación Lineal**"
   ]
  },
  {
   "cell_type": "code",
   "execution_count": 136,
   "id": "2d89609c",
   "metadata": {},
   "outputs": [],
   "source": [
    "def insert_rea(table, node):\n",
    "    i = hashMod(node.name, len(table))\n",
    "    st_pos = i\n",
    "    \n",
    "    while table[i] is not None:\n",
    "        i = (i + 1) % len(table)\n",
    "        if i == st_pos:\n",
    "            print(\"Error: La tabla hash está llena.\")\n",
    "            return\n",
    "    table[i] = node\n",
    "\n",
    "def search_rea(table, string):\n",
    "    i = hashMod(string, len(table))\n",
    "    st_pos = i\n",
    "    while table[i] is not None:\n",
    "        if table[i].name == string:\n",
    "            return table[i]\n",
    "        i = (i + 1) % len(table)\n",
    "        if i == st_pos:\n",
    "            return None\n",
    "    return None"
   ]
  },
  {
   "cell_type": "markdown",
   "id": "8bf4374a",
   "metadata": {},
   "source": [
    "#### **Prueba Reasignación Lineal**"
   ]
  },
  {
   "cell_type": "code",
   "execution_count": 138,
   "id": "e7383af3",
   "metadata": {},
   "outputs": [
    {
     "name": "stdout",
     "output_type": "stream",
     "text": [
      "- - - - - - - - - - Init Arr - - - - - - - - - -\n",
      "Nodo 1 -> -85\n",
      "Nodo 2 -> -15\n",
      "Nodo 3 -> 28\n",
      "Nodo 4 -> -31\n",
      "Nodo 5 -> 8\n",
      "Nodo 6 -> 14\n",
      "Nodo 7 -> -85\n",
      "Nodo 8 -> -96\n",
      "Nodo 9 -> 75\n",
      "Nodo 10 -> -58\n",
      "- - - - - - - - - - Insertion Table - - - - - - - - - -\n",
      "Nodo 10 -> -58\n",
      "Nodo 1 -> -85\n",
      "Nodo 2 -> -15\n",
      "Nodo 3 -> 28\n",
      "Nodo 4 -> -31\n",
      "Nodo 5 -> 8\n",
      "Nodo 6 -> 14\n",
      "Nodo 7 -> -85\n",
      "Nodo 8 -> -96\n",
      "Nodo 9 -> 75\n",
      "- - - - - - - - - - Search - - - - - - - - - -\n"
     ]
    },
    {
     "data": {
      "text/plain": [
       "Nodo 1 -> -85"
      ]
     },
     "execution_count": 138,
     "metadata": {},
     "output_type": "execute_result"
    }
   ],
   "source": [
    "MAX = 10\n",
    "table = [None] * MAX\n",
    "arr = arr_nodes(MAX, -100, 100)\n",
    "print(\"- - - - - - - - - - Init Arr - - - - - - - - - -\")\n",
    "i = 0\n",
    "while i < MAX:\n",
    "    print(arr[i])\n",
    "    i += 1\n",
    "print(\"- - - - - - - - - - Insertion Table - - - - - - - - - -\")\n",
    "i = 0\n",
    "while i < MAX:\n",
    "    insert_rea(table, arr[i])\n",
    "    i += 1\n",
    "i = 0\n",
    "while i < MAX:\n",
    "    print(table[i])\n",
    "    i += 1\n",
    "print(\"- - - - - - - - - - Search - - - - - - - - - -\")\n",
    "search_rea(table, \"Nodo 1\")"
   ]
  },
  {
   "cell_type": "markdown",
   "id": "e8134f81",
   "metadata": {},
   "source": [
    "### **Arreglos Anidados**"
   ]
  },
  {
   "cell_type": "code",
   "execution_count": 110,
   "id": "d0b8f0b0",
   "metadata": {},
   "outputs": [],
   "source": [
    "def insert_arr(table, node):\n",
    "    i = hashMod(node.name, len(table))\n",
    "    table[i].append(node)\n",
    "\n",
    "def search_arr(table, string):\n",
    "    i = hashMod(string, len(table))\n",
    "    nodes_list = table[i]\n",
    "    i = 0\n",
    "    while i < len(nodes_list):\n",
    "        node = nodes_list[i]\n",
    "        if node.name == string:\n",
    "            return node\n",
    "        i += 1\n",
    "    return None"
   ]
  },
  {
   "cell_type": "markdown",
   "id": "d6648319",
   "metadata": {},
   "source": [
    "### **Encadenamiento**"
   ]
  },
  {
   "cell_type": "code",
   "execution_count": 111,
   "id": "dcec64ae",
   "metadata": {},
   "outputs": [],
   "source": [
    "def insert_en(table, node):\n",
    "    i = hashMod(node.name, len(table))\n",
    "    new_node = Node(node)\n",
    "    new_node.next = table[i]\n",
    "    table[i] = new_node\n",
    "\n",
    "def search_en(table, string):\n",
    "    i = hashMod(string, len(table))\n",
    "    current = table[i]\n",
    "    while current is not None:\n",
    "        if current.name.name == string:\n",
    "            return current.name\n",
    "        current = current.next\n",
    "    return None"
   ]
  }
 ],
 "metadata": {
  "kernelspec": {
   "display_name": "Python 3",
   "language": "python",
   "name": "python3"
  },
  "language_info": {
   "codemirror_mode": {
    "name": "ipython",
    "version": 3
   },
   "file_extension": ".py",
   "mimetype": "text/x-python",
   "name": "python",
   "nbconvert_exporter": "python",
   "pygments_lexer": "ipython3",
   "version": "3.13.5"
  }
 },
 "nbformat": 4,
 "nbformat_minor": 5
}
